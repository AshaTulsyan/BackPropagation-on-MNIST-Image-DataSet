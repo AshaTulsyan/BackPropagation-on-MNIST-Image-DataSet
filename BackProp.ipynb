{
 "cells": [
  {
   "cell_type": "code",
   "execution_count": 2,
   "metadata": {
    "collapsed": true
   },
   "outputs": [],
   "source": [
    "from mnist import MNIST\n",
    "import random\n",
    "import numpy as np\n",
    "import matplotlib.pyplot as plt\n",
    "%matplotlib inline\n",
    "import operator"
   ]
  },
  {
   "cell_type": "code",
   "execution_count": 3,
   "metadata": {
    "collapsed": true
   },
   "outputs": [],
   "source": [
    "mndata = MNIST('C:\\\\Users\\\\tulsy\\\\Desktop\\\\CSE 253\\\\prog2')"
   ]
  },
  {
   "cell_type": "code",
   "execution_count": 4,
   "metadata": {
    "collapsed": true
   },
   "outputs": [],
   "source": [
    "images_train, labels_train = mndata.load_training()\n",
    "images_test, labels_test = mndata.load_testing()"
   ]
  },
  {
   "cell_type": "code",
   "execution_count": 5,
   "metadata": {
    "collapsed": true
   },
   "outputs": [],
   "source": [
    "images_train = np.array(images_train)/127.5 -1\n",
    "images_test = np.array(images_test)/127.5 -1\n",
    "images_train = np.hstack((np.ones((60000,1)),images_train))\n",
    "images_test = np.hstack((np.ones((10000,1)),images_test))"
   ]
  },
  {
   "cell_type": "code",
   "execution_count": 6,
   "metadata": {},
   "outputs": [
    {
     "name": "stdout",
     "output_type": "stream",
     "text": [
      "(48000, 785)\n"
     ]
    }
   ],
   "source": [
    "# Divide data into training and testing\n",
    "Images_train =[]\n",
    "lable_train =[]\n",
    "Images_val =[]\n",
    "Labels_val =[]\n",
    "\n",
    "Images_train = images_train[:48000]\n",
    "lable_train = labels_train[:48000]\n",
    "Images_val = images_train[-12000:]\n",
    "Labels_val =labels_train[-12000:]\n",
    "print(np.shape(Images_train))\n"
   ]
  },
  {
   "cell_type": "code",
   "execution_count": 7,
   "metadata": {
    "collapsed": true
   },
   "outputs": [],
   "source": [
    "def one_hot_enc(data):\n",
    "    sz = len (data)\n",
    "    enc = np.zeros ((sz, 10))\n",
    "    enc [range(sz), np.array(data)] = 1\n",
    "    return enc"
   ]
  },
  {
   "cell_type": "code",
   "execution_count": 8,
   "metadata": {
    "collapsed": true
   },
   "outputs": [],
   "source": [
    "label_train_oh = one_hot_enc(lable_train)\n",
    "label_val_oh = one_hot_enc(Labels_val)\n",
    "label_test_oh = one_hot_enc(labels_test)"
   ]
  },
  {
   "cell_type": "code",
   "execution_count": 9,
   "metadata": {
    "collapsed": true
   },
   "outputs": [],
   "source": [
    "def Sigmoid(X, tan):\n",
    "    if (tan  == 0):\n",
    "        return 1.0/(1 + np.exp(-X))\n",
    "    else:\n",
    "        return 1.7159 * np.tanh((2/3)*X)"
   ]
  },
  {
   "cell_type": "code",
   "execution_count": 10,
   "metadata": {
    "collapsed": true
   },
   "outputs": [],
   "source": [
    "def SigmoidP(X, tan):\n",
    "    if (tan == 0):\n",
    "        return Sigmoid(X,tan)*(1-Sigmoid(X,tan))\n",
    "    else:\n",
    "        return 1.7159*(2/3)* (1- ((np.tanh((2/3)*X))*(np.tanh((2/3)*X))))"
   ]
  },
  {
   "cell_type": "code",
   "execution_count": 11,
   "metadata": {
    "collapsed": true
   },
   "outputs": [],
   "source": [
    "def get_softmax_prob (Input_O):\n",
    "    ex = np.exp (Input_O)\n",
    "    temp = np.sum(ex, axis=1)\n",
    "    v = ex/np.resize(temp,(temp.shape[0],1))\n",
    "    return v \n",
    "\n",
    "def get_softmax_pred (sm_prob):\n",
    "    for i in range(len(sm_prob)):\n",
    "        l = sm_prob[i]\n",
    "        index, value = max(enumerate(l), key=operator.itemgetter(1))\n",
    "        sm_prob[i] =0\n",
    "        sm_prob[i][index] =1\n",
    "    return sm_prob\n",
    "\n",
    "\n",
    "\n"
   ]
  },
  {
   "cell_type": "code",
   "execution_count": 12,
   "metadata": {
    "collapsed": true
   },
   "outputs": [],
   "source": [
    "#def Network(Training_Set_size, No_hidden_layer, No_hidden_nodes,lr1,lr2,epochs):\n",
    "def feedforward(WIH, WHO,Images_train,batch_size, tan):\n",
    "    N = batch_size\n",
    "    Input_H = np.dot(Images_train,WIH.T)\n",
    "    Activation_H = Sigmoid(Input_H, tan)\n",
    "    Activation_H = np.hstack((np.ones((N,1)),Activation_H))\n",
    "    Input_O = np.dot(Activation_H,WHO)\n",
    "    Softmax_Input_O = get_softmax_prob(Input_O)\n",
    "    return Input_H,Activation_H,Input_O,Softmax_Input_O\n",
    "\n",
    "def backprop(Images_train, label_train_oh, Input_H, Activation_H, Input_O, Softmax_Input_O, WIH, WHO,l1,l2,batch_size,tan,momentum,M1,M2):\n",
    "    N = batch_size\n",
    "    Y_N = Softmax_Input_O\n",
    "    diff = label_train_oh - Y_N\n",
    "    gd_O = np.dot(diff.T,Activation_H)\n",
    "    D_new=0\n",
    "    U2_new=0\n",
    "    if momentum == 1:\n",
    "        D_old = M1\n",
    "        Update = D_old*(0.9) - (l2 *(gd_O.T))/N\n",
    "        WHO = WHO - Update\n",
    "        D_new = Update\n",
    "    else:\n",
    "        WHO = WHO +(l2 *(gd_O.T))/N\n",
    "    who_wb = WHO\n",
    "    dot1 = np.dot(diff,who_wb.T)\n",
    "    Ac_T = Activation_H.T\n",
    "    Acativation_h_wb = Ac_T\n",
    "    a_sigmoid = SigmoidP(Acativation_h_wb, tan)\n",
    "    dot2 = np.multiply(dot1,a_sigmoid.T)\n",
    "    dot3= np.dot(dot2.T,Images_train)\n",
    "    if momentum == 1:\n",
    "        D_old2 = M2\n",
    "        UPDATE2 = D_old2*0.9 -(l1*dot3[1:])/N\n",
    "        WIH = WIH - UPDATE2\n",
    "        U2_new  = UPDATE2\n",
    "    else:\n",
    "        WIH = WIH +(l1*dot3[1:])/N\n",
    "    return WIH,WHO,D_new,U2_new\n",
    "\n",
    "def calOutputHidden(WIH, WHO,Images_val,tan):\n",
    "    Input_H = np.dot(Images_val,WIH.T)\n",
    "    Activation_H = Sigmoid(Input_H, tan)\n",
    "    Activation_H = np.hstack((np.ones((len(Images_val),1)),Activation_H))\n",
    "    Input_O = np.dot(Activation_H,WHO)\n",
    "    Softmax_Input_O = get_softmax_prob(Input_O)\n",
    "    Y_N = Softmax_Input_O\n",
    "    return Y_N\n",
    "    \n",
    "def calculate_loss_and_acc (Y_N,Images_val,label_val_oh):\n",
    "    err =0\n",
    "    acc =[]\n",
    "    acc_f =0\n",
    "    for i in range(len(Images_val)):\n",
    "        y_n = Y_N[i]\n",
    "        t_n = label_val_oh[i]\n",
    "        dot = np.dot(np.log(y_n),t_n)\n",
    "        err -= dot\n",
    "        idx1 = np.argmax(y_n)\n",
    "        idx2 = np.argmax(t_n)\n",
    "        if idx1 == idx2:\n",
    "            acc.append(1)\n",
    "        else:\n",
    "            acc.append(0)\n",
    "    acc_f = (1.0*sum(acc))/len(label_val_oh)\n",
    "    return err/len(label_val_oh),acc_f\n",
    "    \n",
    "    "
   ]
  },
  {
   "cell_type": "code",
   "execution_count": null,
   "metadata": {
    "collapsed": true
   },
   "outputs": [],
   "source": [
    "def Main(Images_train,label_train_oh,Images_val,label_val_oh,images_test,label_test_oh,H,l1,l2,epochs,shuffle1,momentum,tan,weight):\n",
    "    H1 = H+1\n",
    "    if weight == 1:\n",
    "        WIH = np.random.normal(0, (1/np.sqrt(785)), (H,785))\n",
    "        WHO = np.random.normal(0, (1/np.sqrt(785)), (H1,10))\n",
    "    else:\n",
    "        WIH = np.random.normal(0,0.00001, (H,785))\n",
    "        WHO = np.random.normal(0,0.00001, (H1,10))\n",
    "    batch_size = 128\n",
    "    batch_no = int(len(Images_train)/128)\n",
    "    acc_train =[]\n",
    "    loss_train =[]\n",
    "    acc_val =[]\n",
    "    loss_val =[]\n",
    "    acc_test =[]\n",
    "    loss_test =[]\n",
    "    epoch =[]\n",
    "    M1=0\n",
    "    M2=0\n",
    "    for i in range(epochs):\n",
    "        if shuffle1 == 1:\n",
    "            print (i)\n",
    "            Train_img_shuffle = []\n",
    "            Train_label_shuffle = []\n",
    "            shuffle = np.random.permutation(len(Images_train))\n",
    "            #print(shuffle[:100])\n",
    "            for sample in shuffle:\n",
    "                Train_img_shuffle.append (Images_train[sample])\n",
    "                Train_label_shuffle.append (label_train_oh[sample])\n",
    "            #Images_train = Train_img_shuffle\n",
    "            #label_train_oh = Train_label_shuffle\n",
    "            #print(len(Images_train))\n",
    "            #print(len(label_train_oh))\n",
    "        for j in range(batch_no):\n",
    "            start = j*128\n",
    "            end = start+128\n",
    "            if shuffle1 == 1:\n",
    "                Images_T =Train_img_shuffle[start:end]\n",
    "                Lables_T =Train_label_shuffle[start:end]\n",
    "            else:\n",
    "                Images_T =Images_train[start:end]\n",
    "                Lables_T =label_train_oh[start:end] \n",
    "            Input_H,Activation_H,Input_O,Softmax_Input_O = feedforward(WIH,WHO,Images_T,batch_size,tan)\n",
    "            WIH_n,WHO_n,M1_n,M2_n = backprop(Images_T, Lables_T, Input_H, Activation_H, Input_O, Softmax_Input_O, WIH, WHO,l1,l2,batch_size,tan,momentum,M1,M2)\n",
    "            WIH = WIH_n\n",
    "            WHO = WHO_n\n",
    "            M1 = M1_n\n",
    "            M2 = M2_n\n",
    "        Y_N_train = calOutputHidden(WIH, WHO,Images_train,tan)\n",
    "        err_t, acc_t = calculate_loss_and_acc(Y_N_train,Images_train,label_train_oh)\n",
    "        acc_train.append(acc_t)\n",
    "        loss_train.append(err_t)\n",
    "        Y_N_val = calOutputHidden(WIH, WHO,Images_val,tan)\n",
    "        err_v, acc_v = calculate_loss_and_acc(Y_N_val,Images_val,label_val_oh)\n",
    "        \n",
    "        acc_val.append(acc_v)\n",
    "        loss_val.append(err_v)\n",
    "        Y_N_test = calOutputHidden(WIH, WHO,images_test,tan)\n",
    "        err_t1, acc_t1 = calculate_loss_and_acc(Y_N_test,images_test,label_test_oh)\n",
    "        acc_test.append(acc_t1)\n",
    "        loss_test.append(err_t1)\n",
    "        epoch.append(i)\n",
    "        #print(i)\n",
    "    plt.plot(epoch,acc_train, color='blue', label =\"Training Acc\")\n",
    "    plt.plot(epoch,acc_val, color ='green',label = \"Validation Acc\")\n",
    "    plt.plot(epoch,acc_test, color ='orange', label = \"Test Acc\")\n",
    "    plt.title(\"Accuracy v/s Epochs\")\n",
    "    plt.xlabel(\"Epochs\")\n",
    "    plt.ylabel(\"Accuracy\")\n",
    "    plt.legend()\n",
    "    plt.show()\n",
    "    plt.plot(epoch,loss_train, color='blue',label =\"Training loss\")\n",
    "    plt.plot(epoch,loss_val, color ='green',label =\"Validation loss\")\n",
    "    plt.plot(epoch,loss_test, color ='orange',label =\"Test loss\")\n",
    "    plt.title(\"Loss v/s Epochs\")\n",
    "    plt.xlabel(\"Epochs\")\n",
    "    plt.ylabel(\"Loss\")\n",
    "    plt.legend()\n",
    "    plt.show()\n",
    "    print(\"Training Accuarcy\",max(acc_train))\n",
    "    print(\"Validation Accuarcy\", max(acc_val))\n",
    "    print(\"Test Accuracy\", max(acc_test))\n",
    "    print(np.argmax(np.array(acc_val)))\n",
    "\n",
    "\n",
    "\n",
    "    \n",
    "        "
   ]
  },
  {
   "cell_type": "code",
   "execution_count": null,
   "metadata": {},
   "outputs": [],
   "source": [
    "Main(Images_train,label_train_oh,Images_val,label_val_oh,images_test,label_test_oh,64,0.1,0.1,500,0,0,0,0)\n"
   ]
  },
  {
   "cell_type": "code",
   "execution_count": null,
   "metadata": {},
   "outputs": [],
   "source": [
    "# with shuffle\n",
    "Main(Images_train,label_train_oh,Images_val,label_val_oh,images_test,label_test_oh,64,0.01,0.01,500,1,0,0,0)"
   ]
  },
  {
   "cell_type": "code",
   "execution_count": null,
   "metadata": {},
   "outputs": [],
   "source": [
    "# tan\n",
    "Main(Images_train,label_train_oh,Images_val,label_val_oh,images_test,label_test_oh,64,0.01,0.01,500,1,0,1,0)"
   ]
  },
  {
   "cell_type": "code",
   "execution_count": null,
   "metadata": {},
   "outputs": [],
   "source": [
    "# weights\n",
    "Main(Images_train,label_train_oh,Images_val,label_val_oh,images_test,label_test_oh,64,0.001,0.001,500,1,0,1,1)"
   ]
  },
  {
   "cell_type": "code",
   "execution_count": null,
   "metadata": {},
   "outputs": [],
   "source": [
    "# moemtum\n",
    "Main(Images_train,label_train_oh,Images_val,label_val_oh,images_test,label_test_oh,64,0.001,0.001,500,1,1,1,1)"
   ]
  },
  {
   "cell_type": "code",
   "execution_count": null,
   "metadata": {},
   "outputs": [],
   "source": [
    "# With tan and shuffle data and hidden =32\n",
    "Main(Images_train,label_train_oh,Images_val,label_val_oh,images_test,label_test_oh,32,0.01,0.01,500,1,1,1,1)\n",
    "Main(Images_train,label_train_oh,Images_val,label_val_oh,images_test,label_test_oh,128,0.01,0.01,500,1,1,1,1)\n",
    "Main(Images_train,label_train_oh,Images_val,label_val_oh,images_test,label_test_oh,500,0.01,0.01,500,1,1,1,1)"
   ]
  },
  {
   "cell_type": "code",
   "execution_count": null,
   "metadata": {
    "collapsed": true
   },
   "outputs": [],
   "source": []
  }
 ],
 "metadata": {
  "kernelspec": {
   "display_name": "Python 3",
   "language": "python",
   "name": "python3"
  },
  "language_info": {
   "codemirror_mode": {
    "name": "ipython",
    "version": 3
   },
   "file_extension": ".py",
   "mimetype": "text/x-python",
   "name": "python",
   "nbconvert_exporter": "python",
   "pygments_lexer": "ipython3",
   "version": "3.6.3"
  }
 },
 "nbformat": 4,
 "nbformat_minor": 2
}
